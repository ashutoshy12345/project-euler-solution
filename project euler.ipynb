{
 "cells": [
  {
   "cell_type": "markdown",
   "id": "swedish-clock",
   "metadata": {},
   "source": [
    "# even fibbo"
   ]
  },
  {
   "cell_type": "code",
   "execution_count": 4,
   "id": "fifty-citizenship",
   "metadata": {},
   "outputs": [
    {
     "name": "stdout",
     "output_type": "stream",
     "text": [
      "4613732\n"
     ]
    }
   ],
   "source": [
    "i=1\n",
    "j=2\n",
    "k=0\n",
    "l=2\n",
    "while k <= 4000000:\n",
    "    k=i+j\n",
    "    i=j\n",
    "    j=k\n",
    "    if (k%2==0):\n",
    "        l+=k\n",
    "print(l)    \n",
    "    "
   ]
  },
  {
   "cell_type": "markdown",
   "id": "subject-purchase",
   "metadata": {},
   "source": [
    "# Smallest multiple"
   ]
  },
  {
   "cell_type": "code",
   "execution_count": 1,
   "id": "amateur-gregory",
   "metadata": {},
   "outputs": [],
   "source": [
    "def small_multiple(n):\n",
    "    count=0\n",
    "    num=n\n",
    "    while count!=n-1:\n",
    "        count=0\n",
    "        for i in range(2,n+1):\n",
    "            if num%i!=0:\n",
    "                break\n",
    "            else:\n",
    "                count+=1\n",
    "        num+=n \n",
    "    return (num-n)  \n",
    "\n",
    "        "
   ]
  },
  {
   "cell_type": "code",
   "execution_count": 3,
   "id": "bronze-cigarette",
   "metadata": {},
   "outputs": [
    {
     "data": {
      "text/plain": [
       "232792560"
      ]
     },
     "execution_count": 3,
     "metadata": {},
     "output_type": "execute_result"
    }
   ],
   "source": [
    "small_multiple(20)"
   ]
  },
  {
   "cell_type": "markdown",
   "id": "polish-liberal",
   "metadata": {},
   "source": [
    "# Sum square difference"
   ]
  },
  {
   "cell_type": "code",
   "execution_count": 15,
   "id": "academic-major",
   "metadata": {},
   "outputs": [],
   "source": [
    "def ssd(n):\n",
    "    p= int((n*(n+1))/2)**2\n",
    "    q= int((n*(n+1)*((2*n)+1))/6)\n",
    "    return p-q\n",
    "    "
   ]
  },
  {
   "cell_type": "code",
   "execution_count": 17,
   "id": "serial-growing",
   "metadata": {},
   "outputs": [
    {
     "data": {
      "text/plain": [
       "25164150"
      ]
     },
     "execution_count": 17,
     "metadata": {},
     "output_type": "execute_result"
    }
   ],
   "source": [
    "ssd(100)"
   ]
  },
  {
   "cell_type": "markdown",
   "id": "documentary-plaza",
   "metadata": {},
   "source": [
    "# largest product in a series"
   ]
  },
  {
   "cell_type": "code",
   "execution_count": 37,
   "id": "coordinate-penguin",
   "metadata": {
    "scrolled": true
   },
   "outputs": [
    {
     "name": "stdout",
     "output_type": "stream",
     "text": [
      "23514624000\n"
     ]
    }
   ],
   "source": [
    "n='''73167176531330624919225119674426574742355349194934\n",
    "96983520312774506326239578318016984801869478851843\n",
    "85861560789112949495459501737958331952853208805511\n",
    "12540698747158523863050715693290963295227443043557\n",
    "66896648950445244523161731856403098711121722383113\n",
    "62229893423380308135336276614282806444486645238749\n",
    "30358907296290491560440772390713810515859307960866\n",
    "70172427121883998797908792274921901699720888093776\n",
    "65727333001053367881220235421809751254540594752243\n",
    "52584907711670556013604839586446706324415722155397\n",
    "53697817977846174064955149290862569321978468622482\n",
    "83972241375657056057490261407972968652414535100474\n",
    "82166370484403199890008895243450658541227588666881\n",
    "16427171479924442928230863465674813919123162824586\n",
    "17866458359124566529476545682848912883142607690042\n",
    "24219022671055626321111109370544217506941658960408\n",
    "07198403850962455444362981230987879927244284909188\n",
    "84580156166097919133875499200524063689912560717606\n",
    "05886116467109405077541002256983155200055935729725\n",
    "71636269561882670428252483600823257530420752963450'''.replace('\\n','')\n",
    "\n",
    "\n",
    "maxi=-1\n",
    "\n",
    "for j in range(0,988):\n",
    "    l = 1\n",
    "    for i in range(j,j+13):\n",
    "        l*=int(n[i])\n",
    "    \n",
    "    if l>maxi:\n",
    "        maxi=l\n",
    "    \n",
    "print(maxi)        \n",
    "        \n",
    "    \n",
    "    "
   ]
  },
  {
   "cell_type": "code",
   "execution_count": 30,
   "id": "resistant-relative",
   "metadata": {},
   "outputs": [
    {
     "data": {
      "text/plain": [
       "[988, 989, 990, 991, 992, 993, 994, 995, 996, 997, 998, 999, 1000]"
      ]
     },
     "execution_count": 30,
     "metadata": {},
     "output_type": "execute_result"
    }
   ],
   "source": [
    "list(range(988,988+13))"
   ]
  },
  {
   "cell_type": "markdown",
   "id": "medium-average",
   "metadata": {},
   "source": [
    "# Special Pythagorean triplet"
   ]
  },
  {
   "cell_type": "code",
   "execution_count": 41,
   "id": "computational-chorus",
   "metadata": {},
   "outputs": [
    {
     "name": "stdout",
     "output_type": "stream",
     "text": [
      "200 375 425.0 31875000.0\n"
     ]
    }
   ],
   "source": [
    "fl = False\n",
    "for b in range(1,500):\n",
    "    for a in range(2,b):\n",
    "        c=((a*a)+(b*b))**0.5\n",
    "        if a+b+c==1000:\n",
    "            print(a,b,c,a*b*c)\n",
    "            fl = True\n",
    "            break\n",
    "    if fl:\n",
    "        break\n",
    "            "
   ]
  },
  {
   "cell_type": "markdown",
   "id": "recreational-supervision",
   "metadata": {},
   "source": [
    "# Summation of primes"
   ]
  },
  {
   "cell_type": "code",
   "execution_count": 75,
   "id": "little-scheme",
   "metadata": {},
   "outputs": [],
   "source": [
    "def prime(p):\n",
    "    k=0\n",
    "    for i in range (2,p+1):\n",
    "        for j in range(2,i):\n",
    "            if (i%j==0):\n",
    "                break\n",
    "        else:\n",
    "            k+=i\n",
    "    print(k)\n",
    "            "
   ]
  },
  {
   "cell_type": "code",
   "execution_count": 76,
   "id": "increasing-password",
   "metadata": {},
   "outputs": [
    {
     "name": "stdout",
     "output_type": "stream",
     "text": [
      "17\n"
     ]
    }
   ],
   "source": [
    " prime(10)"
   ]
  },
  {
   "cell_type": "markdown",
   "id": "closing-comparison",
   "metadata": {},
   "source": [
    "# Largest product in a grid"
   ]
  },
  {
   "cell_type": "code",
   "execution_count": 1,
   "id": "accessible-cleaners",
   "metadata": {},
   "outputs": [],
   "source": [
    "b='''08 02 22 97 38 15 00 40 00 75 04 05 07 78 52 12 50 77 91 08\n",
    "49 49 99 40 17 81 18 57 60 87 17 40 98 43 69 48 04 56 62 00\n",
    "81 49 31 73 55 79 14 29 93 71 40 67 53 88 30 03 49 13 36 65\n",
    "52 70 95 23 04 60 11 42 69 24 68 56 01 32 56 71 37 02 36 91\n",
    "22 31 16 71 51 67 63 89 41 92 36 54 22 40 40 28 66 33 13 80\n",
    "24 47 32 60 99 03 45 02 44 75 33 53 78 36 84 20 35 17 12 50\n",
    "32 98 81 28 64 23 67 10 26 38 40 67 59 54 70 66 18 38 64 70\n",
    "67 26 20 68 02 62 12 20 95 63 94 39 63 08 40 91 66 49 94 21\n",
    "24 55 58 05 66 73 99 26 97 17 78 78 96 83 14 88 34 89 63 72\n",
    "21 36 23 09 75 00 76 44 20 45 35 14 00 61 33 97 34 31 33 95\n",
    "78 17 53 28 22 75 31 67 15 94 03 80 04 62 16 14 09 53 56 92\n",
    "16 39 05 42 96 35 31 47 55 58 88 24 00 17 54 24 36 29 85 57\n",
    "86 56 00 48 35 71 89 07 05 44 44 37 44 60 21 58 51 54 17 58\n",
    "19 80 81 68 05 94 47 69 28 73 92 13 86 52 17 77 04 89 55 40\n",
    "04 52 08 83 97 35 99 16 07 97 57 32 16 26 26 79 33 27 98 66\n",
    "88 36 68 87 57 62 20 72 03 46 33 67 46 55 12 32 63 93 53 69\n",
    "04 42 16 73 38 25 39 11 24 94 72 18 08 46 29 32 40 62 76 36\n",
    "20 69 36 41 72 30 23 88 34 62 99 69 82 67 59 85 74 04 36 16\n",
    "20 73 35 29 78 31 90 01 74 31 49 71 48 86 81 16 23 57 05 54\n",
    "01 70 54 71 83 51 54 69 16 92 33 48 61 43 52 01 89 19 67 48'''\n",
    "\n",
    "b = b.split('\\n')\n",
    "c=[]\n",
    "for row in b:\n",
    "    c.append(row.split(' '))\n",
    "    \n",
    "\n",
    "def get_max_prod(itr,cont=4):\n",
    "    '''\n",
    "    cont: How many continuous numbers you want to take into account\n",
    "    '''\n",
    "    max_prod = -1\n",
    "    for i in range(0,len(itr)-cont+1):\n",
    "        prod = 1\n",
    "        for j in range(i,i+cont):\n",
    "            num = int(itr[j])\n",
    "            if num == 0:\n",
    "                break     \n",
    "            prod *= num\n",
    "            \n",
    "        if prod > max_prod:\n",
    "            max_prod = prod\n",
    "                \n",
    "    return max_prod\n",
    "\n",
    "\n",
    "\n",
    "for i in range(0,20):\n",
    "    h = get_max_prod(c[i])\n",
    "    col = []\n",
    "    \n",
    "    for j in range(20):\n",
    "        col.append(c[i][j])\n",
    "        \n",
    "        \n",
    "    v = get_max_prod(col)  \n",
    "    \n",
    "    "
   ]
  },
  {
   "cell_type": "code",
   "execution_count": 30,
   "id": "intense-benchmark",
   "metadata": {},
   "outputs": [
    {
     "data": {
      "text/plain": [
       "24"
      ]
     },
     "execution_count": 30,
     "metadata": {},
     "output_type": "execute_result"
    }
   ],
   "source": [
    "get_max_prod([1,2,3,4],3)"
   ]
  },
  {
   "cell_type": "code",
   "execution_count": 8,
   "id": "radio-boost",
   "metadata": {},
   "outputs": [
    {
     "name": "stdout",
     "output_type": "stream",
     "text": [
      "4204200\n",
      "13956768\n",
      "17696040\n",
      "17696040\n",
      "21149604\n",
      "21149604\n",
      "21149604\n",
      "27663636\n",
      "48477312\n",
      "48477312\n",
      "48477312\n",
      "48477312\n",
      "48477312\n",
      "48477312\n",
      "48477312\n",
      "48477312\n",
      "48477312\n",
      "48477312\n",
      "48477312\n",
      "48477312\n"
     ]
    }
   ],
   "source": [
    "a=1\n",
    "for i in range(0,20):\n",
    "    b=get_max_prod(c[i])\n",
    "    if b>a:\n",
    "        a=b\n",
    "    print(a)    \n",
    "\n"
   ]
  },
  {
   "cell_type": "markdown",
   "id": "universal-perth",
   "metadata": {},
   "source": [
    "# Highly divisible triangular number"
   ]
  },
  {
   "cell_type": "code",
   "execution_count": 34,
   "id": "minor-disposal",
   "metadata": {},
   "outputs": [
    {
     "data": {
      "text/plain": [
       "6"
      ]
     },
     "execution_count": 34,
     "metadata": {},
     "output_type": "execute_result"
    }
   ],
   "source": [
    "def num_fact(n):\n",
    "    count=2\n",
    "    for i in range(2,int(n**0.5)+1):\n",
    "        if n%i==0:\n",
    "            count+=2\n",
    "    return count          "
   ]
  },
  {
   "cell_type": "code",
   "execution_count": 35,
   "id": "nonprofit-valve",
   "metadata": {},
   "outputs": [],
   "source": [
    "def HDT(x):\n",
    "    n=1\n",
    "    count = 0\n",
    "    \n",
    "    while 1:\n",
    "        \n",
    "        y = (n*(n+1))//2\n",
    "    \n",
    "        if num_fact(y)>x:\n",
    "            return y\n",
    "            \n",
    "        n+=1\n",
    "   "
   ]
  },
  {
   "cell_type": "code",
   "execution_count": null,
   "id": "cellular-norway",
   "metadata": {},
   "outputs": [],
   "source": []
  },
  {
   "cell_type": "code",
   "execution_count": 39,
   "id": "caroline-invite",
   "metadata": {},
   "outputs": [
    {
     "data": {
      "text/plain": [
       "76576500"
      ]
     },
     "execution_count": 39,
     "metadata": {},
     "output_type": "execute_result"
    }
   ],
   "source": [
    "HDT(500)"
   ]
  },
  {
   "cell_type": "markdown",
   "id": "norman-receipt",
   "metadata": {},
   "source": [
    "# large sum"
   ]
  },
  {
   "cell_type": "code",
   "execution_count": 42,
   "id": "framed-workplace",
   "metadata": {},
   "outputs": [
    {
     "name": "stdout",
     "output_type": "stream",
     "text": [
      "5537376230\n"
     ]
    }
   ],
   "source": [
    "s = '''37107287533902102798797998220837590246510135740250\n",
    "46376937677490009712648124896970078050417018260538\n",
    "74324986199524741059474233309513058123726617309629\n",
    "91942213363574161572522430563301811072406154908250\n",
    "23067588207539346171171980310421047513778063246676\n",
    "89261670696623633820136378418383684178734361726757\n",
    "28112879812849979408065481931592621691275889832738\n",
    "44274228917432520321923589422876796487670272189318\n",
    "47451445736001306439091167216856844588711603153276\n",
    "70386486105843025439939619828917593665686757934951\n",
    "62176457141856560629502157223196586755079324193331\n",
    "64906352462741904929101432445813822663347944758178\n",
    "92575867718337217661963751590579239728245598838407\n",
    "58203565325359399008402633568948830189458628227828\n",
    "80181199384826282014278194139940567587151170094390\n",
    "35398664372827112653829987240784473053190104293586\n",
    "86515506006295864861532075273371959191420517255829\n",
    "71693888707715466499115593487603532921714970056938\n",
    "54370070576826684624621495650076471787294438377604\n",
    "53282654108756828443191190634694037855217779295145\n",
    "36123272525000296071075082563815656710885258350721\n",
    "45876576172410976447339110607218265236877223636045\n",
    "17423706905851860660448207621209813287860733969412\n",
    "81142660418086830619328460811191061556940512689692\n",
    "51934325451728388641918047049293215058642563049483\n",
    "62467221648435076201727918039944693004732956340691\n",
    "15732444386908125794514089057706229429197107928209\n",
    "55037687525678773091862540744969844508330393682126\n",
    "18336384825330154686196124348767681297534375946515\n",
    "80386287592878490201521685554828717201219257766954\n",
    "78182833757993103614740356856449095527097864797581\n",
    "16726320100436897842553539920931837441497806860984\n",
    "48403098129077791799088218795327364475675590848030\n",
    "87086987551392711854517078544161852424320693150332\n",
    "59959406895756536782107074926966537676326235447210\n",
    "69793950679652694742597709739166693763042633987085\n",
    "41052684708299085211399427365734116182760315001271\n",
    "65378607361501080857009149939512557028198746004375\n",
    "35829035317434717326932123578154982629742552737307\n",
    "94953759765105305946966067683156574377167401875275\n",
    "88902802571733229619176668713819931811048770190271\n",
    "25267680276078003013678680992525463401061632866526\n",
    "36270218540497705585629946580636237993140746255962\n",
    "24074486908231174977792365466257246923322810917141\n",
    "91430288197103288597806669760892938638285025333403\n",
    "34413065578016127815921815005561868836468420090470\n",
    "23053081172816430487623791969842487255036638784583\n",
    "11487696932154902810424020138335124462181441773470\n",
    "63783299490636259666498587618221225225512486764533\n",
    "67720186971698544312419572409913959008952310058822\n",
    "95548255300263520781532296796249481641953868218774\n",
    "76085327132285723110424803456124867697064507995236\n",
    "37774242535411291684276865538926205024910326572967\n",
    "23701913275725675285653248258265463092207058596522\n",
    "29798860272258331913126375147341994889534765745501\n",
    "18495701454879288984856827726077713721403798879715\n",
    "38298203783031473527721580348144513491373226651381\n",
    "34829543829199918180278916522431027392251122869539\n",
    "40957953066405232632538044100059654939159879593635\n",
    "29746152185502371307642255121183693803580388584903\n",
    "41698116222072977186158236678424689157993532961922\n",
    "62467957194401269043877107275048102390895523597457\n",
    "23189706772547915061505504953922979530901129967519\n",
    "86188088225875314529584099251203829009407770775672\n",
    "11306739708304724483816533873502340845647058077308\n",
    "82959174767140363198008187129011875491310547126581\n",
    "97623331044818386269515456334926366572897563400500\n",
    "42846280183517070527831839425882145521227251250327\n",
    "55121603546981200581762165212827652751691296897789\n",
    "32238195734329339946437501907836945765883352399886\n",
    "75506164965184775180738168837861091527357929701337\n",
    "62177842752192623401942399639168044983993173312731\n",
    "32924185707147349566916674687634660915035914677504\n",
    "99518671430235219628894890102423325116913619626622\n",
    "73267460800591547471830798392868535206946944540724\n",
    "76841822524674417161514036427982273348055556214818\n",
    "97142617910342598647204516893989422179826088076852\n",
    "87783646182799346313767754307809363333018982642090\n",
    "10848802521674670883215120185883543223812876952786\n",
    "71329612474782464538636993009049310363619763878039\n",
    "62184073572399794223406235393808339651327408011116\n",
    "66627891981488087797941876876144230030984490851411\n",
    "60661826293682836764744779239180335110989069790714\n",
    "85786944089552990653640447425576083659976645795096\n",
    "66024396409905389607120198219976047599490197230297\n",
    "64913982680032973156037120041377903785566085089252\n",
    "16730939319872750275468906903707539413042652315011\n",
    "94809377245048795150954100921645863754710598436791\n",
    "78639167021187492431995700641917969777599028300699\n",
    "15368713711936614952811305876380278410754449733078\n",
    "40789923115535562561142322423255033685442488917353\n",
    "44889911501440648020369068063960672322193204149535\n",
    "41503128880339536053299340368006977710650566631954\n",
    "81234880673210146739058568557934581403627822703280\n",
    "82616570773948327592232845941706525094512325230608\n",
    "22918802058777319719839450180888072429661980811197\n",
    "77158542502016545090413245809786882778948721859617\n",
    "72107838435069186155435662884062257473692284509516\n",
    "20849603980134001723930671666823555245252804609722\n",
    "53503534226472524250874054075591789781264330331690'''\n",
    "\n",
    "s = s.split('\\n')\n",
    "\n",
    "a = str(sum([int(num) for num in s]))[:10]\n",
    "\n",
    "# a = []\n",
    "# for num in s:\n",
    "#     a.append(int(num))\n",
    "\n",
    "\n",
    "print(a)"
   ]
  },
  {
   "cell_type": "markdown",
   "id": "bizarre-august",
   "metadata": {},
   "source": [
    "# Longest Collatz sequence"
   ]
  },
  {
   "cell_type": "code",
   "execution_count": 62,
   "id": "sacred-accommodation",
   "metadata": {},
   "outputs": [],
   "source": [
    "# x=[]\n",
    "# def collatz(n):\n",
    "#     if n == 1:\n",
    "#         return x\n",
    "#     if n%2==0:\n",
    "#         new = n//2\n",
    "#     else:\n",
    "#         new = (3*n)+1\n",
    "#     x.append(new)\n",
    "    \n",
    "#     collatz(new)\n",
    "    \n",
    "#     return x\n",
    "    "
   ]
  },
  {
   "cell_type": "code",
   "execution_count": 11,
   "id": "silent-component",
   "metadata": {},
   "outputs": [
    {
     "data": {
      "text/plain": [
       "(837799, 525)"
      ]
     },
     "execution_count": 11,
     "metadata": {},
     "output_type": "execute_result"
    }
   ],
   "source": [
    "global_dict = {}\n",
    "\n",
    "def coll(n):\n",
    "    result=[n]\n",
    "    length = 1\n",
    "    while n != 1:\n",
    "        if n%2==0:\n",
    "            n=n//2\n",
    "        else:\n",
    "            n=(3*n)+1\n",
    "        \n",
    "        if n in global_dict:\n",
    "            length += global_dict[n]\n",
    "            break\n",
    "            \n",
    "        length +=1\n",
    "        result.append(n)\n",
    "        \n",
    "        \n",
    "    for i,num in enumerate(result):\n",
    "        global_dict[num] = length - i\n",
    "            \n",
    "    return length\n",
    "\n",
    "\n",
    "def find_max_seq():\n",
    "    max_len = 0\n",
    "    max_num = 0\n",
    "    for i in range(1000000,0,-1):\n",
    "        length = coll(i)\n",
    "        if length > max_len:\n",
    "            max_len = length\n",
    "            max_num = i\n",
    "    return max_num, max_len\n",
    "\n",
    "find_max_seq()"
   ]
  },
  {
   "cell_type": "markdown",
   "id": "thirty-rental",
   "metadata": {},
   "source": [
    "# Lattice paths"
   ]
  },
  {
   "cell_type": "code",
   "execution_count": 12,
   "id": "annual-frost",
   "metadata": {},
   "outputs": [],
   "source": [
    "def fac(n):\n",
    "    if n==1:\n",
    "        return n\n",
    "    else:\n",
    "        return (n*fac(n-1))"
   ]
  },
  {
   "cell_type": "code",
   "execution_count": 14,
   "id": "expensive-surrey",
   "metadata": {},
   "outputs": [],
   "source": [
    "def nPr(n,r):\n",
    "    return fac(n)//fac(n-r)"
   ]
  },
  {
   "cell_type": "code",
   "execution_count": 15,
   "id": "invalid-relay",
   "metadata": {},
   "outputs": [],
   "source": [
    "def nCr(n,r):\n",
    "    return nPr(n,r)//fac(r)\n",
    "    "
   ]
  },
  {
   "cell_type": "code",
   "execution_count": 17,
   "id": "rising-authorization",
   "metadata": {},
   "outputs": [
    {
     "data": {
      "text/plain": [
       "137846528820"
      ]
     },
     "execution_count": 17,
     "metadata": {},
     "output_type": "execute_result"
    }
   ],
   "source": [
    "nCr(40,20)"
   ]
  },
  {
   "cell_type": "markdown",
   "id": "pacific-dutch",
   "metadata": {},
   "source": [
    "# Power digit sum"
   ]
  },
  {
   "cell_type": "code",
   "execution_count": 18,
   "id": "bridal-pattern",
   "metadata": {},
   "outputs": [],
   "source": [
    "def pwr(n,p):\n",
    "    return (n**p)"
   ]
  },
  {
   "cell_type": "code",
   "execution_count": 20,
   "id": "advisory-graph",
   "metadata": {},
   "outputs": [
    {
     "name": "stdout",
     "output_type": "stream",
     "text": [
      "1366\n"
     ]
    }
   ],
   "source": [
    "p = pwr(2,1000)\n",
    "count=0\n",
    "while p:\n",
    "    r = p%10\n",
    "    p = p//10\n",
    "    count+=r\n",
    "    \n",
    "print(count)    \n",
    "    "
   ]
  },
  {
   "cell_type": "code",
   "execution_count": null,
   "id": "canadian-anthropology",
   "metadata": {},
   "outputs": [],
   "source": []
  }
 ],
 "metadata": {
  "kernelspec": {
   "display_name": "Python 3",
   "language": "python",
   "name": "python3"
  },
  "language_info": {
   "codemirror_mode": {
    "name": "ipython",
    "version": 3
   },
   "file_extension": ".py",
   "mimetype": "text/x-python",
   "name": "python",
   "nbconvert_exporter": "python",
   "pygments_lexer": "ipython3",
   "version": "3.9.2"
  }
 },
 "nbformat": 4,
 "nbformat_minor": 5
}
